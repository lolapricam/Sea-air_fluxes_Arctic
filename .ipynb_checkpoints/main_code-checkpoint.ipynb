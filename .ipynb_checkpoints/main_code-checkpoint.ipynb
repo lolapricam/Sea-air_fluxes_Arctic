{
 "cells": [
  {
   "cell_type": "markdown",
   "id": "79018711-ded1-4a64-9f9e-43e9dcc63e2b",
   "metadata": {},
   "source": [
    "# Main Code"
   ]
  },
  {
   "cell_type": "code",
   "execution_count": 3,
   "id": "671a3605-360d-42d8-aac7-2b82d1f4f397",
   "metadata": {},
   "outputs": [
    {
     "name": "stdout",
     "output_type": "stream",
     "text": [
      "Requirement already satisfied: pandas in c:\\users\\lolap\\onedrive\\documents\\applications\\anaconda\\envs\\sea_air_fluxes_env\\lib\\site-packages (2.2.3)\n",
      "Collecting openpyxl\n",
      "  Using cached openpyxl-3.1.5-py2.py3-none-any.whl.metadata (2.5 kB)\n",
      "Requirement already satisfied: numpy>=1.26.0 in c:\\users\\lolap\\onedrive\\documents\\applications\\anaconda\\envs\\sea_air_fluxes_env\\lib\\site-packages (from pandas) (2.2.2)\n",
      "Requirement already satisfied: python-dateutil>=2.8.2 in c:\\users\\lolap\\onedrive\\documents\\applications\\anaconda\\envs\\sea_air_fluxes_env\\lib\\site-packages (from pandas) (2.9.0.post0)\n",
      "Requirement already satisfied: pytz>=2020.1 in c:\\users\\lolap\\onedrive\\documents\\applications\\anaconda\\envs\\sea_air_fluxes_env\\lib\\site-packages (from pandas) (2024.1)\n",
      "Requirement already satisfied: tzdata>=2022.7 in c:\\users\\lolap\\onedrive\\documents\\applications\\anaconda\\envs\\sea_air_fluxes_env\\lib\\site-packages (from pandas) (2023.3)\n",
      "Collecting et-xmlfile (from openpyxl)\n",
      "  Using cached et_xmlfile-2.0.0-py3-none-any.whl.metadata (2.7 kB)\n",
      "Requirement already satisfied: six>=1.5 in c:\\users\\lolap\\onedrive\\documents\\applications\\anaconda\\envs\\sea_air_fluxes_env\\lib\\site-packages (from python-dateutil>=2.8.2->pandas) (1.16.0)\n",
      "Using cached openpyxl-3.1.5-py2.py3-none-any.whl (250 kB)\n",
      "Using cached et_xmlfile-2.0.0-py3-none-any.whl (18 kB)\n",
      "Installing collected packages: et-xmlfile, openpyxl\n",
      "Successfully installed et-xmlfile-2.0.0 openpyxl-3.1.5\n"
     ]
    }
   ],
   "source": [
    "# Installing packages\n",
    "#!pip install pandas openpyxl"
   ]
  },
  {
   "cell_type": "code",
   "execution_count": 36,
   "id": "aa0b64ac-4d4f-4be5-b25b-f239b9ccaafe",
   "metadata": {},
   "outputs": [],
   "source": [
    "# Loading packages\n",
    "import pandas as pd\n",
    "import numpy as np"
   ]
  },
  {
   "cell_type": "markdown",
   "id": "8a63e046-d6ee-419f-82a4-048c1e4979a0",
   "metadata": {},
   "source": [
    "### Loading data files"
   ]
  },
  {
   "cell_type": "code",
   "execution_count": 37,
   "id": "409935b2-5bc6-4176-8615-918851b7a948",
   "metadata": {},
   "outputs": [
    {
     "name": "stdout",
     "output_type": "stream",
     "text": [
      "         Sample_Name  SeaDistance_m Location Duplicate    Datetime   Latitude  \\\n",
      "0  SLWT_2024_01_19_A            NaN    shore         A  2024_01_19  16.625000   \n",
      "1  SLWT_2024_01_19_B            NaN    shore         B  2024_01_19  16.625000   \n",
      "2  SLWT_2024_01_20_A            NaN    shore         A  2024_01_20  16.401667   \n",
      "3  SLWT_2024_01_20_B            NaN    shore         B  2024_01_20  16.401667   \n",
      "4  SLWT_2024_01_21_A            NaN    shore         A  2024_01_21  16.316667   \n",
      "\n",
      "   Longitude  Type  HP_12CH4_dry_mean  HR_12CH4_dry_mean  ...  AirT_degC  \\\n",
      "0 -25.325000   NaN           1.854859           1.838359  ...       24.5   \n",
      "1 -25.325000   NaN           1.729128           1.715480  ...       24.5   \n",
      "2 -27.518333   NaN           1.827733           1.818951  ...       23.5   \n",
      "3 -27.518333   NaN           1.892697           1.893364  ...       23.5   \n",
      "4 -30.581667   NaN           1.902200           1.882740  ...       25.0   \n",
      "\n",
      "   AirP_hPa  CH4atm_ppm  CO2atm_ppm  d13C_CH4atm_permil  d13C_CO2atm_permil  \\\n",
      "0    1016.0    1.416782  425.183759            0.015071            4.718563   \n",
      "1    1016.0    1.416782  425.183759            0.015071            4.718563   \n",
      "2    1014.7    1.689916  376.896303            0.017946            4.202315   \n",
      "3    1014.7    1.689916  376.896303            0.017946            4.202315   \n",
      "4    1014.9    1.867135  445.163458            0.019808            4.958451   \n",
      "\n",
      "   ch4_mmolm3  d13_ch4_permil  co2_mmolm3  d13_co2_permil  \n",
      "0    0.008799     -172.693151   17.010617      -17.005167  \n",
      "1    0.006888     -211.622861   20.395722      -17.814918  \n",
      "2    0.004307     -363.704747   14.367822      -15.322787  \n",
      "3    0.005311     -304.514226   14.534114      -11.257259  \n",
      "4    0.003139     -526.377362   13.034787      -15.798780  \n",
      "\n",
      "[5 rows x 28 columns]\n",
      "         Sample_Name   Latitude  Longitude TWS [kts]  SOG [kts]  P_atm [hPa]  \\\n",
      "0  SLWT_2024_01_19_A  16.625000 -25.325000         7        4.5       1016.0   \n",
      "1  SLWT_2024_01_19_B  16.625000 -25.325000         7        4.5       1016.0   \n",
      "2  SLWT_2024_01_20_A  16.401667 -27.518333        16        7.6       1014.7   \n",
      "3  SLWT_2024_01_20_B  16.401667 -27.518333        16        7.6       1014.7   \n",
      "4  SLWT_2024_01_21_A  16.316667 -30.581667        19        7.5       1014.9   \n",
      "\n",
      "   T_air [°C]   pH  Tw_b [°C]  Tw_a [°C] Mer [Douglas]  \\\n",
      "0        24.5  7.5       24.0       23.5             3   \n",
      "1        24.5  7.5       23.5       23.5             3   \n",
      "2        23.5  7.5       24.8       25.4           3-4   \n",
      "3        23.5  7.5       24.5       25.2           3-4   \n",
      "4        25.0  7.5       24.7       25.3             3   \n",
      "\n",
      "                           Remarks  \n",
      "0  Air pressure from NOAA archives  \n",
      "1  Air pressure from NOAA archives  \n",
      "2                              NaN  \n",
      "3                              NaN  \n",
      "4                              NaN  \n"
     ]
    }
   ],
   "source": [
    "# Loading data\n",
    "data = pd.read_excel(\"Data/Data_final.xlsx\") \n",
    "\n",
    "# Display the first 5 rows\n",
    "print(data.head())\n",
    "\n",
    "metadata = pd.read_excel(\"Data/Metadata_final.xlsx\") \n",
    "\n",
    "# Display the first 5 rows\n",
    "print(metadata.head())"
   ]
  },
  {
   "cell_type": "markdown",
   "id": "b6aa2249-6b69-4479-b041-0973d1f4e6a1",
   "metadata": {},
   "source": [
    "### Loading Variables"
   ]
  },
  {
   "cell_type": "code",
   "execution_count": 67,
   "id": "e8e30e63-e46e-46c4-9be5-478968061a7c",
   "metadata": {},
   "outputs": [],
   "source": [
    "# Some usefull variables\n",
    "\n",
    "R = 8.314 # [J/K/mol], ideal gas law\n",
    "V_w_L = 0.105 #[L], volume of the water sample in the syringe\n",
    "V_hs_L = 0.35 #[L], volume of the headspace in the syringe\n",
    "V_tot_L = 0.140 #[L], volume total of the syringe\n",
    "P_atm_Pa = 101325 #[Pa], atmospheric pressure\n",
    "#coefficient n : (n = 0.5 for wind speeds > 3.7 [m s-1] or, n = 0.66 for wind speeds < 3.7 [m s-1])\n"
   ]
  },
  {
   "cell_type": "markdown",
   "id": "acf7230e-9e7c-42a9-b1ab-8a90a73c7083",
   "metadata": {},
   "source": [
    "### Calculation of ocean-air fluxes for CO2 and methane"
   ]
  },
  {
   "cell_type": "markdown",
   "id": "cbd2b7dc-0004-4684-8210-1a4bcfad4d13",
   "metadata": {},
   "source": [
    "Partial pressure"
   ]
  },
  {
   "cell_type": "code",
   "execution_count": 72,
   "id": "7a3aaeb0-f9ef-4c0e-b961-318f8e2131df",
   "metadata": {},
   "outputs": [],
   "source": [
    "# CO2\n",
    "Pi_CO2 = data[\"CO2atm_ppm\"] * 10**(-6) * P_atm_Pa\n",
    "#print(Pi_CO2)\n",
    "\n",
    "#CH4\n",
    "Pi_CH4 = data[\"CH4atm_ppm\"] * 10**(-6) * P_atm_Pa\n",
    "#print(Pi_CH4)"
   ]
  },
  {
   "cell_type": "markdown",
   "id": "3ac2a52b-33b2-4961-9b88-fd36a0db0178",
   "metadata": {},
   "source": [
    "Gas concentration in the water"
   ]
  },
  {
   "cell_type": "code",
   "execution_count": 69,
   "id": "26c8cae4-103b-429f-8499-7ce4db2b5767",
   "metadata": {},
   "outputs": [],
   "source": [
    "#convert Temp at equilibrium (assumed to be the Temp after shaking) in Kelvin\n",
    "Te_K = data[\"Te_degC\"] + 273.15 \n",
    "#print(Te_K)"
   ]
  },
  {
   "cell_type": "code",
   "execution_count": 73,
   "id": "d468c316-d9b1-45af-aaae-dba3d9d24b48",
   "metadata": {},
   "outputs": [],
   "source": [
    "# Ideal Gas Law (Magen et al., 2014) \n",
    "n_CO2 = Pi_CO2 * V_w_L / (R * Te_K)\n",
    "#print(n_CO2)\n",
    "\n",
    "n_CH4 = Pi_CH4 * V_w_L / (R * Te_K)\n",
    "#print(n_CH4)"
   ]
  },
  {
   "cell_type": "markdown",
   "id": "0c0732c9-fbaf-4713-ba46-a00c6f927d9b",
   "metadata": {},
   "source": [
    "Corrected Henry's coefficients [mol/m3/Pa]"
   ]
  },
  {
   "cell_type": "code",
   "execution_count": 74,
   "id": "c8311c5d-d2d7-45f3-a302-f81d60fcb70d",
   "metadata": {},
   "outputs": [],
   "source": [
    "# CO2 (Weiss 1974)\n",
    "A = [-58.0931, 90.5069, 22.2940]\n",
    "B = [0.027766, -0.025888, 0.0050578]\n",
    "hcpsalt_CO2_molm3Pa = (\n",
    "    np.exp(\n",
    "    A[0]\n",
    "    + A[1] * 100 / Te_K\n",
    "    + A[2] * np.log(Te_K / 100)\n",
    "    + data[\"sal_psu\"] * (B[0] + B[1] * Te_K / 100 + B[2] * (Te_K / 100) ** 2)\n",
    "    ) * 1000/ 101325 \n",
    "    )\n",
    "#print(hcpsalt_CO2_molm3Pa)"
   ]
  },
  {
   "cell_type": "code",
   "execution_count": 82,
   "id": "9aabbcb6-2f8e-469c-98c6-40a214955488",
   "metadata": {},
   "outputs": [],
   "source": [
    "# CH4 (Wiesenburg and Guinasso 1979)\n",
    "A = [-417.5053, 599.8626, 380.3636, -62.0764]\n",
    "B = [-0.064236, 0.03498, -0.0052732]\n",
    "c_molm3 = (\n",
    "    np.exp(\n",
    "    + A[0]\n",
    "    + A[1] * 100 / Te_K\n",
    "    + A[2] * np.log(Te_K / 100)\n",
    "    + A[3] * (Te_K / 100)\n",
    "    + data[\"sal_psu\"] * (B[0] + B[1] * Te_K / 100 + B[2] * (Te_K / 100) ** 2)\n",
    "    ) * 1000 / 1e9\n",
    "    )\n",
    "\n",
    "hcpsalt_CH4_molm3Pa = c_molm3 / 101325\n",
    "\n",
    "#print(hcpsalt__CH4_molm3Pa)"
   ]
  },
  {
   "cell_type": "markdown",
   "id": "46413138-b751-418c-b65e-8bff90dff714",
   "metadata": {},
   "source": [
    "Dissolved water concentration [mol/m3]"
   ]
  },
  {
   "cell_type": "code",
   "execution_count": 86,
   "id": "e02d98fa-0904-4674-941e-9ede9b1424ca",
   "metadata": {},
   "outputs": [
    {
     "name": "stdout",
     "output_type": "stream",
     "text": [
      "0     0.000002\n",
      "1     0.000002\n",
      "2     0.000002\n",
      "3     0.000002\n",
      "4     0.000002\n",
      "5     0.000002\n",
      "6     0.000002\n",
      "7     0.000002\n",
      "8     0.000002\n",
      "9     0.000002\n",
      "10    0.000002\n",
      "11    0.000003\n",
      "12    0.000003\n",
      "13    0.000002\n",
      "14    0.000002\n",
      "15    0.000002\n",
      "16    0.000002\n",
      "17    0.000002\n",
      "18    0.000002\n",
      "19    0.000002\n",
      "20    0.000002\n",
      "21    0.000002\n",
      "22    0.000002\n",
      "23    0.000002\n",
      "24    0.000002\n",
      "25    0.000002\n",
      "26    0.000002\n",
      "27    0.000002\n",
      "28    0.000003\n",
      "29    0.000003\n",
      "30    0.000003\n",
      "31    0.000003\n",
      "32    0.000003\n",
      "33    0.000003\n",
      "34    0.000003\n",
      "35    0.000003\n",
      "36    0.000003\n",
      "37    0.000003\n",
      "38    0.000003\n",
      "39    0.000003\n",
      "40    0.000003\n",
      "41    0.000003\n",
      "42    0.000003\n",
      "43    0.000003\n",
      "44    0.000003\n",
      "45    0.000003\n",
      "46    0.000003\n",
      "47    0.000003\n",
      "48    0.000003\n",
      "49    0.000003\n",
      "50    0.000003\n",
      "dtype: float64\n"
     ]
    }
   ],
   "source": [
    "# Henry’s Law (Sander, 2023)\n",
    "# CO2\n",
    "C_eq_CO2 = hcpsalt_CO2_molm3Pa * Pi_CO2\n",
    "#print(C_eq_CO2)\n",
    "\n",
    "# CH4\n",
    "C_eq_CH4 = hcpsalt_CH4_molm3Pa * Pi_CH4\n",
    "print(C_eq_CH4)"
   ]
  },
  {
   "cell_type": "markdown",
   "id": "73b158ce-be74-4874-b155-20656edb13fc",
   "metadata": {},
   "source": [
    "Gas transfer velocity"
   ]
  },
  {
   "cell_type": "code",
   "execution_count": null,
   "id": "87eb7dfe-d983-4de0-9d4c-2ae1d2728368",
   "metadata": {},
   "outputs": [],
   "source": [
    "# K600 (MacIntyre et al., 2010) \n",
    "K600 = "
   ]
  },
  {
   "cell_type": "markdown",
   "id": "0f84d692-7468-4cc2-8db1-82b5f1a61fe6",
   "metadata": {},
   "source": [
    "Schmidt number"
   ]
  },
  {
   "cell_type": "code",
   "execution_count": null,
   "id": "474fab2a-da99-4c03-bc7c-d81c85206bc6",
   "metadata": {},
   "outputs": [],
   "source": [
    "# (Wanninkhof, 2014)\n",
    "#CO2\n",
    "Sc_CO2 =\n",
    "\n",
    "#CH4\n",
    "Sc_CH4 ="
   ]
  },
  {
   "cell_type": "markdown",
   "id": "7795125b-7ccc-493b-9164-7863828cf2ba",
   "metadata": {},
   "source": [
    "Exchange coefficient"
   ]
  },
  {
   "cell_type": "code",
   "execution_count": null,
   "id": "6a154094-f3b3-49be-ba3c-84cc92d0df67",
   "metadata": {},
   "outputs": [],
   "source": [
    "# Gas exchange (McGinnis et al., 2015) \n",
    "Ki_CO2 = \n",
    "\n",
    "Ki_CH4 = "
   ]
  },
  {
   "cell_type": "markdown",
   "id": "75601845-f4c9-4018-8844-3fb74cb62c49",
   "metadata": {},
   "source": [
    "Ocean-air fluxes"
   ]
  },
  {
   "cell_type": "code",
   "execution_count": null,
   "id": "0411a927-f09d-49e2-bca0-30ad2c2080bf",
   "metadata": {},
   "outputs": [],
   "source": [
    "#Fick’s first law (Fick, 1855) \n",
    "F_CO2 = \n",
    "\n",
    "F_CH4 ="
   ]
  }
 ],
 "metadata": {
  "kernelspec": {
   "display_name": "Python 3 (ipykernel)",
   "language": "python",
   "name": "python3"
  },
  "language_info": {
   "codemirror_mode": {
    "name": "ipython",
    "version": 3
   },
   "file_extension": ".py",
   "mimetype": "text/x-python",
   "name": "python",
   "nbconvert_exporter": "python",
   "pygments_lexer": "ipython3",
   "version": "3.13.2"
  }
 },
 "nbformat": 4,
 "nbformat_minor": 5
}
