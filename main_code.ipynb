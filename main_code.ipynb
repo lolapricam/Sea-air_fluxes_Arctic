{
 "cells": [
  {
   "cell_type": "markdown",
   "id": "79018711-ded1-4a64-9f9e-43e9dcc63e2b",
   "metadata": {},
   "source": [
    "# Main Code"
   ]
  },
  {
   "cell_type": "code",
   "execution_count": 3,
   "id": "671a3605-360d-42d8-aac7-2b82d1f4f397",
   "metadata": {},
   "outputs": [
    {
     "name": "stdout",
     "output_type": "stream",
     "text": [
      "Requirement already satisfied: pandas in c:\\users\\lolap\\onedrive\\documents\\applications\\anaconda\\envs\\sea_air_fluxes_env\\lib\\site-packages (2.2.3)\n",
      "Collecting openpyxl\n",
      "  Using cached openpyxl-3.1.5-py2.py3-none-any.whl.metadata (2.5 kB)\n",
      "Requirement already satisfied: numpy>=1.26.0 in c:\\users\\lolap\\onedrive\\documents\\applications\\anaconda\\envs\\sea_air_fluxes_env\\lib\\site-packages (from pandas) (2.2.2)\n",
      "Requirement already satisfied: python-dateutil>=2.8.2 in c:\\users\\lolap\\onedrive\\documents\\applications\\anaconda\\envs\\sea_air_fluxes_env\\lib\\site-packages (from pandas) (2.9.0.post0)\n",
      "Requirement already satisfied: pytz>=2020.1 in c:\\users\\lolap\\onedrive\\documents\\applications\\anaconda\\envs\\sea_air_fluxes_env\\lib\\site-packages (from pandas) (2024.1)\n",
      "Requirement already satisfied: tzdata>=2022.7 in c:\\users\\lolap\\onedrive\\documents\\applications\\anaconda\\envs\\sea_air_fluxes_env\\lib\\site-packages (from pandas) (2023.3)\n",
      "Collecting et-xmlfile (from openpyxl)\n",
      "  Using cached et_xmlfile-2.0.0-py3-none-any.whl.metadata (2.7 kB)\n",
      "Requirement already satisfied: six>=1.5 in c:\\users\\lolap\\onedrive\\documents\\applications\\anaconda\\envs\\sea_air_fluxes_env\\lib\\site-packages (from python-dateutil>=2.8.2->pandas) (1.16.0)\n",
      "Using cached openpyxl-3.1.5-py2.py3-none-any.whl (250 kB)\n",
      "Using cached et_xmlfile-2.0.0-py3-none-any.whl (18 kB)\n",
      "Installing collected packages: et-xmlfile, openpyxl\n",
      "Successfully installed et-xmlfile-2.0.0 openpyxl-3.1.5\n"
     ]
    }
   ],
   "source": [
    "# Installing packages\n",
    "#!pip install pandas openpyxl"
   ]
  },
  {
   "cell_type": "code",
   "execution_count": 1,
   "id": "aa0b64ac-4d4f-4be5-b25b-f239b9ccaafe",
   "metadata": {},
   "outputs": [],
   "source": [
    "# Loading packages\n",
    "import pandas as pd\n",
    "import numpy as np"
   ]
  },
  {
   "cell_type": "markdown",
   "id": "8a63e046-d6ee-419f-82a4-048c1e4979a0",
   "metadata": {},
   "source": [
    "### Loading data files"
   ]
  },
  {
   "cell_type": "code",
   "execution_count": 52,
   "id": "409935b2-5bc6-4176-8615-918851b7a948",
   "metadata": {},
   "outputs": [
    {
     "name": "stdout",
     "output_type": "stream",
     "text": [
      "         Sample_Name  SeaDistance_m Location Duplicate    Datetime   Latitude  \\\n",
      "0  SLWT_2024_01_19_A            NaN    shore         A  2024_01_19  16.625000   \n",
      "1  SLWT_2024_01_19_B            NaN    shore         B  2024_01_19  16.625000   \n",
      "2  SLWT_2024_01_20_A            NaN    shore         A  2024_01_20  16.401667   \n",
      "3  SLWT_2024_01_20_B            NaN    shore         B  2024_01_20  16.401667   \n",
      "4  SLWT_2024_01_21_A            NaN    shore         A  2024_01_21  16.316667   \n",
      "\n",
      "   Longitude  Type  HP_12CH4_dry_mean  HR_12CH4_dry_mean  ...  AirT_degC  \\\n",
      "0 -25.325000   NaN           1.854859           1.838359  ...       24.5   \n",
      "1 -25.325000   NaN           1.729128           1.715480  ...       24.5   \n",
      "2 -27.518333   NaN           1.827733           1.818951  ...       23.5   \n",
      "3 -27.518333   NaN           1.892697           1.893364  ...       23.5   \n",
      "4 -30.581667   NaN           1.902200           1.882740  ...       25.0   \n",
      "\n",
      "   AirP_hPa  CH4atm_ppm  CO2atm_ppm  d13C_CH4atm_permil  d13C_CO2atm_permil  \\\n",
      "0    1016.0    1.416782  425.183759            0.015071            4.718563   \n",
      "1    1016.0    1.416782  425.183759            0.015071            4.718563   \n",
      "2    1014.7    1.689916  376.896303            0.017946            4.202315   \n",
      "3    1014.7    1.689916  376.896303            0.017946            4.202315   \n",
      "4    1014.9    1.867135  445.163458            0.019808            4.958451   \n",
      "\n",
      "   ch4_mmolm3  d13_ch4_permil  co2_mmolm3  d13_co2_permil  \n",
      "0    0.008799     -172.693151   17.010617      -17.005167  \n",
      "1    0.006888     -211.622861   20.395722      -17.814918  \n",
      "2    0.004307     -363.704747   14.367822      -15.322787  \n",
      "3    0.005311     -304.514226   14.534114      -11.257259  \n",
      "4    0.003139     -526.377362   13.034787      -15.798780  \n",
      "\n",
      "[5 rows x 28 columns]\n",
      "         Sample_Name   Latitude  Longitude TWS [kts]  SOG [kts]  P_atm [hPa]  \\\n",
      "0  SLWT_2024_01_19_A  16.625000 -25.325000         7        4.5       1016.0   \n",
      "1  SLWT_2024_01_19_B  16.625000 -25.325000         7        4.5       1016.0   \n",
      "2  SLWT_2024_01_20_A  16.401667 -27.518333        16        7.6       1014.7   \n",
      "3  SLWT_2024_01_20_B  16.401667 -27.518333        16        7.6       1014.7   \n",
      "4  SLWT_2024_01_21_A  16.316667 -30.581667        19        7.5       1014.9   \n",
      "\n",
      "   T_air [°C]   pH  Tw_b [°C]  Tw_a [°C] Mer [Douglas]  \\\n",
      "0        24.5  7.5       24.0       23.5             3   \n",
      "1        24.5  7.5       23.5       23.5             3   \n",
      "2        23.5  7.5       24.8       25.4           3-4   \n",
      "3        23.5  7.5       24.5       25.2           3-4   \n",
      "4        25.0  7.5       24.7       25.3             3   \n",
      "\n",
      "                           Remarks  \n",
      "0  Air pressure from NOAA archives  \n",
      "1  Air pressure from NOAA archives  \n",
      "2                              NaN  \n",
      "3                              NaN  \n",
      "4                              NaN  \n"
     ]
    }
   ],
   "source": [
    "# Loading data\n",
    "data = pd.read_excel(\"Data/Data_final.xlsx\") \n",
    "\n",
    "# Display the first 5 rows\n",
    "print(data.head())\n",
    "\n",
    "metadata = pd.read_excel(\"Data/Metadata_final.xlsx\") \n",
    "\n",
    "# Display the first 5 rows  \n",
    "print(metadata.head())"
   ]
  },
  {
   "cell_type": "markdown",
   "id": "b6aa2249-6b69-4479-b041-0973d1f4e6a1",
   "metadata": {},
   "source": [
    "### Loading Variables"
   ]
  },
  {
   "cell_type": "code",
   "execution_count": 53,
   "id": "e8e30e63-e46e-46c4-9be5-478968061a7c",
   "metadata": {},
   "outputs": [],
   "source": [
    "# Some usefull variables\n",
    "\n",
    "R_JKmol = 8.314 # [J/K/mol], ideal gas law\n",
    "V_w_L = 0.105 #[L], volume of the water sample in the syringe\n",
    "V_hs_L = 0.35 #[L], volume of the headspace in the syringe\n",
    "V_tot_L = 0.140 #[L], volume total of the syringe\n",
    "P_atm_Pa = 101325 #[Pa], atmospheric pressure"
   ]
  },
  {
   "cell_type": "markdown",
   "id": "acf7230e-9e7c-42a9-b1ab-8a90a73c7083",
   "metadata": {},
   "source": [
    "### Calculation of ocean-air fluxes for CO2 and methane"
   ]
  },
  {
   "cell_type": "markdown",
   "id": "cbd2b7dc-0004-4684-8210-1a4bcfad4d13",
   "metadata": {},
   "source": [
    "Partial pressure - Pi [Pa]"
   ]
  },
  {
   "cell_type": "code",
   "execution_count": 54,
   "id": "7a3aaeb0-f9ef-4c0e-b961-318f8e2131df",
   "metadata": {},
   "outputs": [],
   "source": [
    "# CO2\n",
    "Pi_CO2_Pa = data[\"CO2atm_ppm\"] * 10**(-6) * P_atm_Pa\n",
    "#print(Pi_CO2_Pa)\n",
    "\n",
    "#CH4\n",
    "Pi_CH4_Pa = data[\"CH4atm_ppm\"] * 10**(-6) * P_atm_Pa\n",
    "#print(Pi_CH4_Pa)"
   ]
  },
  {
   "cell_type": "markdown",
   "id": "3ac2a52b-33b2-4961-9b88-fd36a0db0178",
   "metadata": {},
   "source": [
    "Gas concentration in the water - n [mol]"
   ]
  },
  {
   "cell_type": "code",
   "execution_count": 55,
   "id": "26c8cae4-103b-429f-8499-7ce4db2b5767",
   "metadata": {},
   "outputs": [],
   "source": [
    "#convert Temp at equilibrium (assumed to be the Temp after shaking) in Kelvin\n",
    "Te_K = data[\"Te_degC\"] + 273.15 \n",
    "#print(Te_K)"
   ]
  },
  {
   "cell_type": "code",
   "execution_count": 56,
   "id": "d468c316-d9b1-45af-aaae-dba3d9d24b48",
   "metadata": {},
   "outputs": [],
   "source": [
    "# Ideal Gas Law (Magen et al., 2014) \n",
    "#converting V_w_L in m3\n",
    "V_w_m3 = V_w_L / 1000\n",
    "\n",
    "n_CO2_mol = Pi_CO2_Pa * V_w_m3 / (R_JKmol * Te_K)\n",
    "#print(n_CO2_mol)\n",
    "\n",
    "n_CH4_mol = Pi_CH4_Pa * V_w_m3 / (R_JKmol * Te_K)\n",
    "#print(n_CH4_mol)"
   ]
  },
  {
   "cell_type": "markdown",
   "id": "0c0732c9-fbaf-4713-ba46-a00c6f927d9b",
   "metadata": {},
   "source": [
    "Corrected Henry's coefficients [mol/m3/Pa]"
   ]
  },
  {
   "cell_type": "code",
   "execution_count": 57,
   "id": "c8311c5d-d2d7-45f3-a302-f81d60fcb70d",
   "metadata": {},
   "outputs": [],
   "source": [
    "# CO2 (Weiss 1974)\n",
    "A = [-58.0931, 90.5069, 22.2940]\n",
    "B = [0.027766, -0.025888, 0.0050578]\n",
    "hcpsalt_CO2_molm3Pa = (\n",
    "    np.exp(\n",
    "    A[0]\n",
    "    + A[1] * 100 / Te_K\n",
    "    + A[2] * np.log(Te_K / 100)\n",
    "    + data[\"sal_psu\"] * (B[0] + B[1] * Te_K / 100 + B[2] * (Te_K / 100) ** 2)\n",
    "    ) * 1000/ 101325 \n",
    "    )\n",
    "#print(hcpsalt_CO2_molm3Pa)"
   ]
  },
  {
   "cell_type": "code",
   "execution_count": 58,
   "id": "9aabbcb6-2f8e-469c-98c6-40a214955488",
   "metadata": {},
   "outputs": [],
   "source": [
    "# CH4 (Wiesenburg and Guinasso 1979)\n",
    "A = [-417.5053, 599.8626, 380.3636, -62.0764]\n",
    "B = [-0.064236, 0.03498, -0.0052732]\n",
    "c_molm3 = (\n",
    "    np.exp(\n",
    "    + A[0]\n",
    "    + A[1] * 100 / Te_K\n",
    "    + A[2] * np.log(Te_K / 100)\n",
    "    + A[3] * (Te_K / 100)\n",
    "    + data[\"sal_psu\"] * (B[0] + B[1] * Te_K / 100 + B[2] * (Te_K / 100) ** 2)\n",
    "    ) * 1000 / 1e9\n",
    "    )\n",
    "\n",
    "hcpsalt_CH4_molm3Pa = c_molm3 / 101325\n",
    "\n",
    "#print(hcpsalt__CH4_molm3Pa)"
   ]
  },
  {
   "cell_type": "markdown",
   "id": "46413138-b751-418c-b65e-8bff90dff714",
   "metadata": {},
   "source": [
    "Dissolved water concentration [mol/m3] or solubility of the gases"
   ]
  },
  {
   "cell_type": "code",
   "execution_count": 59,
   "id": "e02d98fa-0904-4674-941e-9ede9b1424ca",
   "metadata": {},
   "outputs": [],
   "source": [
    "# Henry’s Law (Sander, 2023)\n",
    "# CO2\n",
    "C_eq_CO2_molm3 = hcpsalt_CO2_molm3Pa * Pi_CO2_Pa\n",
    "#print(C_eq_CO2_molm3)\n",
    "\n",
    "# CH4\n",
    "C_eq_CH4_molm3 = hcpsalt_CH4_molm3Pa * Pi_CH4_Pa\n",
    "#print(C_eq_CH4_molm3)"
   ]
  },
  {
   "cell_type": "markdown",
   "id": "73b158ce-be74-4874-b155-20656edb13fc",
   "metadata": {},
   "source": [
    "Gas transfer velocity K600 [m/s]"
   ]
  },
  {
   "cell_type": "code",
   "execution_count": 60,
   "id": "e1a74682-5495-4d12-ac15-59b4ed60aa7c",
   "metadata": {},
   "outputs": [
    {
     "name": "stdout",
     "output_type": "stream",
     "text": [
      "         Sample_Name   Latitude  Longitude TWS [kts]  SOG [kts]  P_atm [hPa]  \\\n",
      "0  SLWT_2024_01_19_A  16.625000 -25.325000         7        4.5       1016.0   \n",
      "1  SLWT_2024_01_19_B  16.625000 -25.325000         7        4.5       1016.0   \n",
      "2  SLWT_2024_01_20_A  16.401667 -27.518333        16        7.6       1014.7   \n",
      "3  SLWT_2024_01_20_B  16.401667 -27.518333        16        7.6       1014.7   \n",
      "4  SLWT_2024_01_21_A  16.316667 -30.581667        19        7.5       1014.9   \n",
      "\n",
      "   T_air [°C]   pH  Tw_b [°C]  Tw_a [°C] Mer [Douglas]  \\\n",
      "0        24.5  7.5       24.0       23.5             3   \n",
      "1        24.5  7.5       23.5       23.5             3   \n",
      "2        23.5  7.5       24.8       25.4           3-4   \n",
      "3        23.5  7.5       24.5       25.2           3-4   \n",
      "4        25.0  7.5       24.7       25.3             3   \n",
      "\n",
      "                           Remarks  Min_Wind_Speed [kts]  \\\n",
      "0  Air pressure from NOAA archives                   7.0   \n",
      "1  Air pressure from NOAA archives                   7.0   \n",
      "2                              NaN                  16.0   \n",
      "3                              NaN                  16.0   \n",
      "4                              NaN                  19.0   \n",
      "\n",
      "   Max_Wind_Speed [kts]  Min_Wind_Speed [m/s]  Max_Wind_Speed [m/s]  \n",
      "0                   7.0              3.601111              3.601111  \n",
      "1                   7.0              3.601111              3.601111  \n",
      "2                  16.0              8.231111              8.231111  \n",
      "3                  16.0              8.231111              8.231111  \n",
      "4                  19.0              9.774444              9.774444  \n"
     ]
    }
   ],
   "source": [
    "# Function to extract min and max wind speed\n",
    "kts_to_ms = 1852 / 3600\n",
    "\n",
    "def WS_min_max(wind_speed):\n",
    "    if isinstance(wind_speed, str) and '-' in wind_speed:  # Check if it's a range\n",
    "        min_val, max_val = map(float, wind_speed.split('-'))  # Split and convert to float\n",
    "    else:\n",
    "        min_val = max_val = float(wind_speed)  # If it's a single number\n",
    "    return pd.Series([min_val, max_val])\n",
    "\n",
    "# Apply function to create new columns\n",
    "metadata[['Min_Wind_Speed [kts]', 'Max_Wind_Speed [kts]']] = metadata['TWS [kts]'].apply(WS_min_max)\n",
    "\n",
    "# Convert knots to meters per second\n",
    "metadata['Min_Wind_Speed [m/s]'] = metadata['Min_Wind_Speed [kts]'] * kts_to_ms\n",
    "metadata['Max_Wind_Speed [m/s]'] = metadata['Max_Wind_Speed [kts]'] * kts_to_ms\n",
    "\n",
    "# Display the first rows\n",
    "print(metadata.head())"
   ]
  },
  {
   "cell_type": "code",
   "execution_count": 61,
   "id": "87eb7dfe-d983-4de0-9d4c-2ae1d2728368",
   "metadata": {},
   "outputs": [],
   "source": [
    "# Calculation of the gas transfer velocity K600 (MacIntyre et al., 2010) \n",
    "K600_min_ms = 2.04 * 10 * metadata[\"Min_Wind_Speed [m/s]\"] + 2.0\n",
    "#print(K600_min_ms)\n",
    "\n",
    "K600_max_ms = 2.04 * 10 * metadata[\"Max_Wind_Speed [m/s]\"] + 2.0\n",
    "#print(K600_max_ms)"
   ]
  },
  {
   "cell_type": "markdown",
   "id": "0f84d692-7468-4cc2-8db1-82b5f1a61fe6",
   "metadata": {},
   "source": [
    "Schmidt number - Sc [-]"
   ]
  },
  {
   "cell_type": "code",
   "execution_count": 62,
   "id": "474fab2a-da99-4c03-bc7c-d81c85206bc6",
   "metadata": {},
   "outputs": [],
   "source": [
    "# (Wanninkhof, 2014)\n",
    "#CO2\n",
    "Sc_CO2 =  2073.1 - 125.62 * metadata[\"Tw_b [°C]\"] + 3.6276 * metadata[\"Tw_b [°C]\"]**2 - 0.043219 * metadata[\"Tw_b [°C]\"]**3\n",
    "#print(Sc_CO2)\n",
    "\n",
    "#CH4\n",
    "Sc_CH4 = 2039.2 - 120.31 * metadata[\"Tw_b [°C]\"] + 3.4209 * metadata[\"Tw_b [°C]\"]**2 - 0.040437 * metadata[\"Tw_b [°C]\"]**3\n",
    "#print(Sc_CH4)"
   ]
  },
  {
   "cell_type": "markdown",
   "id": "7795125b-7ccc-493b-9164-7863828cf2ba",
   "metadata": {},
   "source": [
    "Exchange coefficient - Ki [m/d]"
   ]
  },
  {
   "cell_type": "code",
   "execution_count": 63,
   "id": "0be1d0a6-bbec-4507-b501-05bb1bc80082",
   "metadata": {},
   "outputs": [
    {
     "name": "stdout",
     "output_type": "stream",
     "text": [
      "         Sample_Name   Latitude  Longitude TWS [kts]  SOG [kts]  P_atm [hPa]  \\\n",
      "0  SLWT_2024_01_19_A  16.625000 -25.325000         7        4.5       1016.0   \n",
      "1  SLWT_2024_01_19_B  16.625000 -25.325000         7        4.5       1016.0   \n",
      "2  SLWT_2024_01_20_A  16.401667 -27.518333        16        7.6       1014.7   \n",
      "3  SLWT_2024_01_20_B  16.401667 -27.518333        16        7.6       1014.7   \n",
      "4  SLWT_2024_01_21_A  16.316667 -30.581667        19        7.5       1014.9   \n",
      "\n",
      "   T_air [°C]   pH  Tw_b [°C]  Tw_a [°C] Mer [Douglas]  \\\n",
      "0        24.5  7.5       24.0       23.5             3   \n",
      "1        24.5  7.5       23.5       23.5             3   \n",
      "2        23.5  7.5       24.8       25.4           3-4   \n",
      "3        23.5  7.5       24.5       25.2           3-4   \n",
      "4        25.0  7.5       24.7       25.3             3   \n",
      "\n",
      "                           Remarks  Min_Wind_Speed [kts]  \\\n",
      "0  Air pressure from NOAA archives                   7.0   \n",
      "1  Air pressure from NOAA archives                   7.0   \n",
      "2                              NaN                  16.0   \n",
      "3                              NaN                  16.0   \n",
      "4                              NaN                  19.0   \n",
      "\n",
      "   Max_Wind_Speed [kts]  Min_Wind_Speed [m/s]  Max_Wind_Speed [m/s]  Min_n  \\\n",
      "0                   7.0              3.601111              3.601111   0.66   \n",
      "1                   7.0              3.601111              3.601111   0.66   \n",
      "2                  16.0              8.231111              8.231111   0.50   \n",
      "3                  16.0              8.231111              8.231111   0.50   \n",
      "4                  19.0              9.774444              9.774444   0.50   \n",
      "\n",
      "   Max_n  \n",
      "0   0.66  \n",
      "1   0.66  \n",
      "2   0.50  \n",
      "3   0.50  \n",
      "4   0.50  \n"
     ]
    }
   ],
   "source": [
    "# Define n from the gas exchange equation (n = 0.5 for wind speeds > 3.7 [m s-1] or, n = 0.66 for wind speeds < 3.7 [m s-1]) :\n",
    "def WS_n (wind_speed) :\n",
    "    if wind_speed < 3.7 :\n",
    "        n = 0.66\n",
    "    else:\n",
    "        n = 0.5\n",
    "    return n\n",
    "\n",
    "metadata['Min_n'] = metadata['Min_Wind_Speed [m/s]'].apply(WS_n)\n",
    "metadata['Max_n'] = metadata['Max_Wind_Speed [m/s]'].apply(WS_n)\n",
    "\n",
    "print(metadata.head())"
   ]
  },
  {
   "cell_type": "code",
   "execution_count": 64,
   "id": "76afaf4b-2811-45cf-ac53-290d6baae0de",
   "metadata": {},
   "outputs": [
    {
     "name": "stdout",
     "output_type": "stream",
     "text": [
      "Index([30, 31], dtype='int64')\n"
     ]
    }
   ],
   "source": [
    "# Find indices where Min and Max n are different\n",
    "indices = metadata[metadata[\"Min_n\"] != metadata[\"Max_n\"]].index\n",
    "print(indices)"
   ]
  },
  {
   "cell_type": "code",
   "execution_count": 68,
   "id": "6a154094-f3b3-49be-ba3c-84cc92d0df67",
   "metadata": {},
   "outputs": [],
   "source": [
    "# Gas exchange for CO2 (McGinnis et al., 2015) \n",
    "Ki_min_CO2_md = K600_min_ms * (600 / Sc_CO2)**(-metadata[\"Min_n\"])\n",
    "#print(Ki_min_CO2_md)\n",
    "\n",
    "Ki_max_CO2_md = K600_max_ms * (600 / Sc_CO2)**(-metadata[\"Max_n\"])\n",
    "#print(Ki_max_CO2_md)"
   ]
  },
  {
   "cell_type": "code",
   "execution_count": 66,
   "id": "0eaa1c06-b307-49e5-8d04-d4bd5e37f858",
   "metadata": {},
   "outputs": [],
   "source": [
    "# Gas exchange for CH4 (McGinnis et al., 2015) \n",
    "Ki_min_CH4_md = K600_min_ms * (600 / Sc_CH4)**(-metadata[\"Min_n\"])\n",
    "#print(Ki_min_CH4_md)\n",
    "\n",
    "Ki_max_CH4_md = K600_max_ms * (600 / Sc_CH4)**(-metadata[\"Max_n\"])\n",
    "#print(Ki_max_CH4_md)"
   ]
  },
  {
   "cell_type": "markdown",
   "id": "75601845-f4c9-4018-8844-3fb74cb62c49",
   "metadata": {},
   "source": [
    "Ocean-air fluxes - F [mmol/m2/d] "
   ]
  },
  {
   "cell_type": "code",
   "execution_count": 69,
   "id": "0411a927-f09d-49e2-bca0-30ad2c2080bf",
   "metadata": {},
   "outputs": [
    {
     "name": "stdout",
     "output_type": "stream",
     "text": [
      "0      302.317406\n",
      "1      552.171207\n",
      "2      573.398330\n",
      "3      595.466927\n",
      "4       52.638264\n",
      "5      143.268108\n",
      "6      245.246988\n",
      "7      204.061557\n",
      "8      154.897059\n",
      "9       64.520838\n",
      "10      38.572854\n",
      "11      88.282783\n",
      "12     297.218581\n",
      "13     149.168048\n",
      "14     198.204694\n",
      "15     154.968812\n",
      "16     208.805176\n",
      "17       9.178345\n",
      "18      71.032296\n",
      "19      22.043624\n",
      "20     202.437489\n",
      "21     110.794598\n",
      "22       8.010852\n",
      "23      21.762481\n",
      "24      51.717529\n",
      "25     341.587207\n",
      "26     171.902027\n",
      "27     206.816201\n",
      "28    -731.752472\n",
      "29    -784.267008\n",
      "30    -179.819879\n",
      "31    -272.093715\n",
      "32    -396.290993\n",
      "33    -271.685880\n",
      "34   -1877.945809\n",
      "35   -2141.136289\n",
      "36   -1149.005492\n",
      "37    -791.113654\n",
      "38    -116.076624\n",
      "39      99.661744\n",
      "40     -72.861215\n",
      "41    -551.440358\n",
      "42    -461.160663\n",
      "43    -230.564506\n",
      "44    -100.556752\n",
      "45    -881.631149\n",
      "46       4.075339\n",
      "47    -108.411041\n",
      "48      10.065406\n",
      "49       0.775067\n",
      "50      -0.665449\n",
      "dtype: float64\n",
      "0      302.317406\n",
      "1      552.171207\n",
      "2      573.398330\n",
      "3      595.466927\n",
      "4       52.638264\n",
      "5      143.268108\n",
      "6      245.246988\n",
      "7      204.061557\n",
      "8      154.897059\n",
      "9       64.520838\n",
      "10      38.572854\n",
      "11      88.282783\n",
      "12     297.218581\n",
      "13     149.168048\n",
      "14     198.204694\n",
      "15     154.968812\n",
      "16     208.805176\n",
      "17       9.178345\n",
      "18      71.032296\n",
      "19      22.043624\n",
      "20     202.437489\n",
      "21     110.794598\n",
      "22       8.010852\n",
      "23      31.486058\n",
      "24      74.825161\n",
      "25     494.209958\n",
      "26     248.708652\n",
      "27     299.222640\n",
      "28    -731.752472\n",
      "29    -784.267008\n",
      "30    -310.426962\n",
      "31    -470.170417\n",
      "32    -396.290993\n",
      "33    -271.685880\n",
      "34   -2188.961073\n",
      "35   -2495.739743\n",
      "36   -1149.005492\n",
      "37    -791.113654\n",
      "38    -116.076624\n",
      "39      99.661744\n",
      "40     -72.861215\n",
      "41    -551.440358\n",
      "42    -461.160663\n",
      "43    -230.564506\n",
      "44    -100.556752\n",
      "45    -881.631149\n",
      "46       4.075339\n",
      "47    -108.411041\n",
      "48      14.660279\n",
      "49       0.775067\n",
      "50      -0.665449\n",
      "dtype: float64\n",
      "Mean min CO2 flux: -113.00806101800265\n",
      "Mean max CO2 flux: -125.45983758329314\n"
     ]
    }
   ],
   "source": [
    "#Fick’s first law for CO2 (Fick, 1855) \n",
    "F_min_CO2_mmolm2d = Ki_min_CO2_md * (data[\"co2_mmolm3\"] - C_eq_CO2 * 10**3)\n",
    "print(F_min_CO2_mmolm2d)\n",
    "\n",
    "F_max_CO2_mmolm2d = Ki_max_CO2_md * (data[\"co2_mmolm3\"] - C_eq_CO2 * 10**3)\n",
    "print(F_max_CO2_mmolm2d)\n",
    "\n",
    "#mean values\n",
    "mean_F_min_CO2_mmolm2d = np.mean(F_min_CO2_mmolm2d)\n",
    "mean_F_max_CO2_mmolm2d = np.mean(F_max_CO2_mmolm2d)\n",
    "print(\"Mean min CO2 flux:\", mean_F_min_CO2_mmolm2d)\n",
    "print(\"Mean max CO2 flux:\", mean_F_max_CO2_mmolm2d)"
   ]
  },
  {
   "cell_type": "code",
   "execution_count": 71,
   "id": "2b77a1d3-1474-4c19-8ffb-115f62e4aa6f",
   "metadata": {},
   "outputs": [
    {
     "name": "stdout",
     "output_type": "stream",
     "text": [
      "0      524.259220\n",
      "1      391.885438\n",
      "2      406.759620\n",
      "3      572.001057\n",
      "4      222.543107\n",
      "5      224.563880\n",
      "6       38.567153\n",
      "7       85.245167\n",
      "8       55.322180\n",
      "9      -85.376458\n",
      "10       3.337389\n",
      "11   -1205.363436\n",
      "12   -1294.861429\n",
      "13     107.079618\n",
      "14     172.664243\n",
      "15     103.545551\n",
      "16     124.155236\n",
      "17     125.883856\n",
      "18    1413.716431\n",
      "19      87.797959\n",
      "20     104.317302\n",
      "21     -15.974379\n",
      "22     229.924628\n",
      "23     160.723811\n",
      "24     213.314515\n",
      "25      36.432490\n",
      "26      84.372825\n",
      "27      93.783730\n",
      "28     148.991191\n",
      "29     166.840441\n",
      "30    1481.478847\n",
      "31     210.342070\n",
      "32    -182.933175\n",
      "33      90.516880\n",
      "34      27.424525\n",
      "35     357.264058\n",
      "36      92.492718\n",
      "37     333.893937\n",
      "38     153.756487\n",
      "39     192.990665\n",
      "40      37.060841\n",
      "41      25.884033\n",
      "42     140.000415\n",
      "43      76.442760\n",
      "44     141.999643\n",
      "45     336.700110\n",
      "46     192.680267\n",
      "47     236.129975\n",
      "48      49.248103\n",
      "49      65.377620\n",
      "50      57.838307\n",
      "dtype: float64\n",
      "0      524.259220\n",
      "1      391.885438\n",
      "2      406.759620\n",
      "3      572.001057\n",
      "4      222.543107\n",
      "5      224.563880\n",
      "6       38.567153\n",
      "7       85.245167\n",
      "8       55.322180\n",
      "9      -85.376458\n",
      "10       3.337389\n",
      "11   -1205.363436\n",
      "12   -1294.861429\n",
      "13     107.079618\n",
      "14     172.664243\n",
      "15     103.545551\n",
      "16     124.155236\n",
      "17     125.883856\n",
      "18    1413.716431\n",
      "19      87.797959\n",
      "20     104.317302\n",
      "21     -15.974379\n",
      "22     229.924628\n",
      "23     232.535957\n",
      "24     308.624432\n",
      "25      52.710696\n",
      "26     122.070995\n",
      "27     135.686736\n",
      "28     148.991191\n",
      "29     166.840441\n",
      "30    2559.144413\n",
      "31     363.687021\n",
      "32    -182.933175\n",
      "33      90.516880\n",
      "34      31.966427\n",
      "35     416.432206\n",
      "36      92.492718\n",
      "37     333.893937\n",
      "38     153.756487\n",
      "39     192.990665\n",
      "40      37.060841\n",
      "41      25.884033\n",
      "42     140.000415\n",
      "43      76.442760\n",
      "44     141.999643\n",
      "45     336.700110\n",
      "46     192.680267\n",
      "47     236.129975\n",
      "48      71.729940\n",
      "49      65.377620\n",
      "50      57.838307\n",
      "dtype: float64\n",
      "Mean min CH4 flux: 145.35375341259657\n",
      "Mean max CH4 flux: 176.3381425681907\n"
     ]
    }
   ],
   "source": [
    "#Fick’s first law for CH4 (Fick, 1855)\n",
    "F_min_CH4_umolm2d = Ki_min_CH4_md * (data[\"ch4_mmolm3\"] - C_eq_CH4 * 10**(3)) * 10**3\n",
    "print(F_min_CH4_umolm2d)\n",
    "\n",
    "F_max_CH4_umolm2d = Ki_max_CH4_md * (data[\"ch4_mmolm3\"] - C_eq_CH4 * 10**(3)) * 10**3\n",
    "print(F_max_CH4_umolm2d)\n",
    "\n",
    "#mean values\n",
    "mean_F_min_CH4_umolm2d = np.mean(F_min_CH4_umolm2d)\n",
    "mean_F_max_CH4_umolm2d = np.mean(F_max_CH4_umolm2d)\n",
    "print(\"Mean min CH4 flux:\", mean_F_min_CH4_umolm2d)\n",
    "print(\"Mean max CH4 flux:\", mean_F_max_CH4_umolm2d)"
   ]
  }
 ],
 "metadata": {
  "kernelspec": {
   "display_name": "Python 3 (ipykernel)",
   "language": "python",
   "name": "python3"
  },
  "language_info": {
   "codemirror_mode": {
    "name": "ipython",
    "version": 3
   },
   "file_extension": ".py",
   "mimetype": "text/x-python",
   "name": "python",
   "nbconvert_exporter": "python",
   "pygments_lexer": "ipython3",
   "version": "3.13.2"
  }
 },
 "nbformat": 4,
 "nbformat_minor": 5
}
